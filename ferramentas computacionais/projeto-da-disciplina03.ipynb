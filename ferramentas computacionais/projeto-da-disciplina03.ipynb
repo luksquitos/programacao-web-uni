{
  "nbformat": 4,
  "nbformat_minor": 0,
  "metadata": {
    "colab": {
      "provenance": []
    },
    "kernelspec": {
      "name": "python3",
      "display_name": "Python 3"
    },
    "language_info": {
      "name": "python"
    }
  },
  "cells": [
    {
      "cell_type": "markdown",
      "source": [],
      "metadata": {
        "id": "TIUN7PxXv-UO"
      }
    },
    {
      "cell_type": "markdown",
      "source": [
        "# Alunos\n",
        "\n",
        "- Jerônimo Ribeiro Costa Neto - 2120524\n",
        "- Lucas Martins Caetano - 2120474\n",
        "- Gilso Reinaldo - 2120645\n",
        "- Weller Schwartz - 2120458"
      ],
      "metadata": {
        "id": "htC6s99nT6QA"
      }
    },
    {
      "cell_type": "code",
      "source": [
        "!pip install rasterio gdown tqdm"
      ],
      "metadata": {
        "id": "RCgLb0Vs4zZJ"
      },
      "execution_count": null,
      "outputs": []
    },
    {
      "cell_type": "code",
      "execution_count": 2,
      "metadata": {
        "colab": {
          "base_uri": "https://localhost:8080/"
        },
        "id": "MkdsLWTbv4Ez",
        "outputId": "a6a76239-e0e8-498d-de48-d522f14d4271"
      },
      "outputs": [
        {
          "output_type": "stream",
          "name": "stderr",
          "text": [
            "Downloading...\n",
            "From (original): https://drive.google.com/uc?id=1BrtGByxXu5xqBGOvSBmPWkb_YGZagHav\n",
            "From (redirected): https://drive.google.com/uc?id=1BrtGByxXu5xqBGOvSBmPWkb_YGZagHav&confirm=t&uuid=b26c4e5f-e3c1-4b3e-9811-dfe04d044528\n",
            "To: /content/image.tif\n",
            "100%|██████████| 1.07G/1.07G [00:25<00:00, 41.9MB/s]\n",
            "Processando blocos: 100%|██████████| 94240/94240 [01:26<00:00, 1095.19it/s]"
          ]
        },
        {
          "output_type": "stream",
          "name": "stdout",
          "text": [
            "\n",
            "Resultados:\n",
            "1. Quantidade total de pixels: 24599016701\n",
            "2. Quantidade de pixels sem dados (código 0): 14814537822\n",
            "3. Quantidade de pixels de soja (código 39): 468443516\n",
            "4. Quantidade de pixels de pastagem (código 15): 1895700288\n",
            "\n",
            "Cálculos de área (considerando proporção em relação à área do Brasil):\n",
            "Área de plantio de soja: 40770243.20 hectares, Pixels: 468443516\n",
            "Área de pastagem: 164989287.16 hectares, Pixels: 1895700288\n"
          ]
        },
        {
          "output_type": "stream",
          "name": "stderr",
          "text": [
            "\n"
          ]
        }
      ],
      "source": [
        "import rasterio\n",
        "import numpy as np\n",
        "import gdown\n",
        "from tqdm import tqdm\n",
        "\n",
        "# Baixa o arquivo do Google Drive\n",
        "link_arquivo = \"https://drive.google.com/uc?id=1BrtGByxXu5xqBGOvSBmPWkb_YGZagHav\"\n",
        "nome_arquivo = \"imagem.tif\"\n",
        "gdown.download(link_arquivo, nome_arquivo, quiet=False)\n",
        "\n",
        "# Abre o arquivo raster para processamento\n",
        "with rasterio.open(nome_arquivo) as raster:\n",
        "    # Contabiliza o total de blocos para a barra de progresso\n",
        "    quantidade_blocos = sum(1 for _ in raster.block_windows(1))\n",
        "\n",
        "    # Inicializa contadores\n",
        "    pixels_totais = 0\n",
        "    pixels_sem_dados = 0\n",
        "    pixels_soja = 0\n",
        "    pixels_pastagem = 0\n",
        "\n",
        "    # Processa os blocos do raster com uma barra de progresso\n",
        "    for _, janela in tqdm(raster.block_windows(1), total=quantidade_blocos, desc=\"Análise em andamento\"):\n",
        "        # Lê o bloco atual\n",
        "        bloco_dados = raster.read(1, window=janela)\n",
        "\n",
        "        # Atualiza os contadores\n",
        "        pixels_totais += bloco_dados.size\n",
        "        pixels_sem_dados += np.count_nonzero(bloco_dados == 0)\n",
        "        pixels_soja += np.count_nonzero(bloco_dados == 39)\n",
        "        pixels_pastagem += np.count_nonzero(bloco_dados == 15)\n",
        "\n",
        "# Calcula a quantidade de pixels válidos\n",
        "pixels_validos = pixels_totais - pixels_sem_dados\n",
        "\n",
        "# Calcula as porcentagens, evitando divisão por zero\n",
        "if pixels_validos > 0:\n",
        "    porcentagem_soja = (pixels_soja / pixels_validos) * 100\n",
        "    porcentagem_pastagem = (pixels_pastagem / pixels_validos) * 100\n",
        "else:\n",
        "    porcentagem_soja = 0\n",
        "    porcentagem_pastagem = 0\n",
        "\n",
        "# Define a área total do Brasil em hectares\n",
        "area_total_brasil_ha = 851576700\n",
        "\n",
        "# Calcula as áreas de soja e pastagem em hectares\n",
        "area_soja_ha = (porcentagem_soja / 100) * area_total_brasil_ha\n",
        "area_pastagem_ha = (porcentagem_pastagem / 100) * area_total_brasil_ha\n",
        "\n",
        "# Exibe os resultados\n",
        "print(\"\\nResultados da Análise:\")\n",
        "print(f\"1. Total de pixels analisados: {pixels_totais}\")\n",
        "print(f\"2. Pixels sem dados (código 0): {pixels_sem_dados}\")\n",
        "print(f\"3. Pixels de área de soja (código 39): {pixels_soja}\")\n",
        "print(f\"4. Pixels de pastagem (código 15): {pixels_pastagem}\")\n",
        "\n",
        "print(\"\\nProporções calculadas com base na área do Brasil:\")\n",
        "print(f\"- Área estimada de soja: {area_soja_ha:.2f} hectares, Pixels: {pixels_soja}\")\n",
        "print(f\"- Área estimada de pastagem: {area_pastagem_ha:.2f} hectares, Pixels: {pixels_pastagem}\")\n"
      ]
    }
  ]
}